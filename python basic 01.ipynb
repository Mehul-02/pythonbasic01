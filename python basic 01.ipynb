{
 "cells": [
  {
   "cell_type": "code",
   "execution_count": 4,
   "id": "f2f592dc",
   "metadata": {},
   "outputs": [
    {
     "name": "stdout",
     "output_type": "stream",
     "text": [
      "enter height in cm:183\n",
      "enter weight in kgs100\n",
      "your bmi is overweight.\n"
     ]
    }
   ],
   "source": [
    "\"\"\"\n",
    "This is for basic of BMI calculation\n",
    "\"\"\"\n",
    "\n",
    "\n",
    "\n",
    "while True:\n",
    "    h=eval(input('enter height in cm:'))\n",
    "    w=eval(input('enter weight in kgs'))\n",
    "    \n",
    "    try:\n",
    "        h=float(h)\n",
    "        w=float(w)\n",
    "    except valueError:\n",
    "        print('invaild input please enter vaild information.')\n",
    "        continue\n",
    "    if h<=0 or w<=0:\n",
    "        print('negative numbers are not allowed')\n",
    "        continue\n",
    "    else:\n",
    "        break\n",
    "h=h/100\n",
    "bmi=w/(h*h)\n",
    "if bmi<18.5:\n",
    "    print('your bmi is underweight.')\n",
    "elif bmi<25:\n",
    "    print('your bmi is normal.')\n",
    "elif bmi<30:\n",
    "    print('your bmi is overweight.')\n",
    "else:\n",
    "    print('you bmi is obese.')"
   ]
  },
  {
   "cell_type": "code",
   "execution_count": 2,
   "id": "3d20c7c1",
   "metadata": {},
   "outputs": [
    {
     "name": "stdout",
     "output_type": "stream",
     "text": [
      "please your operation\n",
      "1.add\n",
      "2.subtract\n",
      "3.multiply\n",
      "4.divide\n",
      "enter your first number:24\n",
      "enter your second number:2\n",
      "enter your choice4\n",
      "the result is: 12.0\n"
     ]
    }
   ],
   "source": [
    "\"\"\"\n",
    "This is for basic of arithimatic calculation \n",
    "\"\"\"\n",
    "print('please your operation')\n",
    "print('1.add')\n",
    "print('2.subtract')\n",
    "print('3.multiply')\n",
    "print('4.divide')\n",
    "c=0\n",
    "def sum(a,b):\n",
    "    c=a+b\n",
    "    return c\n",
    "def sub(a,b):\n",
    "    c=a-b\n",
    "    return c\n",
    "def multi(a,b):\n",
    "    c=a*b\n",
    "    return c\n",
    "def divi(a,b):\n",
    "    c=a/b\n",
    "    return c\n",
    "\n",
    "x=eval(input('enter your first number:'))\n",
    "y=eval(input('enter your second number:'))\n",
    "choice=int(input('enter your choice'))\n",
    "result=0\n",
    "try:\n",
    "    if choice==1:\n",
    "        result=sum(x,y)\n",
    "        print('the result is:',result)\n",
    "    elif choice==2:\n",
    "        result=sub(x,y)\n",
    "        print('the result is:',result)\n",
    "    elif choice==3:\n",
    "        result=multi(x,y)\n",
    "        print('the result is:',result)\n",
    "    elif choice==4:\n",
    "        if(y==0):\n",
    "            print('cannot divide it by zero')\n",
    "        else: \n",
    "            result=divi(x,y)\n",
    "            print('the result is:',result)\n",
    "    else:\n",
    "        print(\"please enter vaild information\")\n",
    "except ValueError:\n",
    "    print(\"it is not vaild input\")\n",
    "    print('thank you for useing this calculator')\n",
    "    \n",
    "                    \n",
    "\n",
    "            "
   ]
  }
 ],
 "metadata": {
  "kernelspec": {
   "display_name": "Python 3 (ipykernel)",
   "language": "python",
   "name": "python3"
  },
  "language_info": {
   "codemirror_mode": {
    "name": "ipython",
    "version": 3
   },
   "file_extension": ".py",
   "mimetype": "text/x-python",
   "name": "python",
   "nbconvert_exporter": "python",
   "pygments_lexer": "ipython3",
   "version": "3.9.12"
  }
 },
 "nbformat": 4,
 "nbformat_minor": 5
}
